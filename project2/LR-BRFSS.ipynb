{
 "cells": [
  {
   "cell_type": "markdown",
   "id": "83740559",
   "metadata": {},
   "source": [
    "## Multiple Linear Regression - Behavioral Risk Factor Surveillance System (BRFSS) Data"
   ]
  },
  {
   "cell_type": "markdown",
   "id": "8c91bae7",
   "metadata": {},
   "source": [
    "In this assignment, you will analyze data from the [Behavioral Risk Factor Surveillance System (BRFSS) data](https://www.cdc.gov/brfss/annual_data/annual_data.htm). The objective is to construct a self-contained Jupyter Notebook that predicts health outcomes using income, body mass index (BMI), and education as explanatory variables. Importantly, your solution should be designed to handle the dataset without loading all data into memory simultaneously.\n",
    "\n",
    "Before beginning, carefully\n",
    "1. Review the Lecture Slides on Multiple Linear Regression, specifically:\n",
    "   - Slides 22–26: Derivation of the formula for multiple linear regression coefficients $\\hat{\\beta} = (X^TX)^{-1}X^Ty$.\n",
    "   - Slides 31–52: A step-by-step algorithm for computing the regression coefficients and the adjusted R-squared statistic in a single pass over the data.\n",
    "\n",
    "2. Review the Provided Script Template.\n",
    "   - Examine the sample Python script template in [`linearRegression.zip`](https://rutgersconnect-my.sharepoint.com/:f:/g/personal/hz333_connect_rutgers_edu/Eu7WWRxo7hZLiPlugT-tfucBSKVD3lc4gRxF3xZNlg9emg?e=e5fap3)\n",
    "   - Download the BRFSS data files for years 2011, 2012, 2013, and 2014 into the `./data` directory. Do not unzip the downloaded files.\n",
    "   - Complete the missing sections of the script. You are required to implement a total of **four lines** of code.\n",
    "   - Execute the completed script to compute the regression coefficients and the adjusted R-squared statistic by running the following command in your terminal:\n",
    "     ```bash\n",
    "     python -m ScalableAlgorithms.PythonScripts.linearRegression\n",
    "     ```\n",
    "\n",
    "**Your task**:\n",
    "- Adapt the provided Python script template to implement a function `regression_health` with the following specifications:\n",
    "  - INPUT:\n",
    "    - `data_dir`: Path to the directory containing the BRFSS data files (the zip files should remain compressed).\n",
    "    - `columns`: A non-empty list of column names to be used as predictors (independent variables).\n",
    "  - OUTPUT:\n",
    "    - `beta`: A NumPy array of regression coefficients. The first element corresponds to the intercept $\\hat{\\beta}_0$, followed by the coefficients for each predictor in the order they are listed in `columns`.\n",
    "    - `adj_r2`: The adjusted R-squared statistic of the regression model."
   ]
  },
  {
   "cell_type": "markdown",
   "id": "c6165e28",
   "metadata": {},
   "source": [
    "### Tool Functions"
   ]
  },
  {
   "cell_type": "code",
   "execution_count": null,
   "id": "3be0fc25",
   "metadata": {},
   "outputs": [],
   "source": [
    "import sys\n",
    "import os\n",
    "import importlib\n",
    "import pathlib\n",
    "import numpy as np\n",
    "import zipfile\n",
    "from io import TextIOWrapper"
   ]
  },
  {
   "cell_type": "code",
   "execution_count": null,
   "id": "b6c3c0eb",
   "metadata": {},
   "outputs": [],
   "source": [
    "def fieldDictBuild():\n",
    "    fieldDict = dict.fromkeys([0, 1, 2, 3, 11, 12, 13, 14])\n",
    "\n",
    "    fieldDict[11] = {\n",
    "        \"genhlth\": 73,\n",
    "        \"bmi\": (1533, 1536),\n",
    "        \"income\": (124, 125),\n",
    "        \"education\": 122,\n",
    "    }\n",
    "    fieldDict[12] = {\n",
    "        \"genhlth\": 73,\n",
    "        \"bmi\": (1644, 1647),\n",
    "        \"income\": (116, 117),\n",
    "        \"education\": 114,\n",
    "    }\n",
    "    fieldDict[13] = {\n",
    "        \"genhlth\": 80,\n",
    "        \"bmi\": (2192, 2195),\n",
    "        \"income\": (152, 153),\n",
    "        \"education\": 150,\n",
    "    }\n",
    "    fieldDict[14] = {\n",
    "        \"genhlth\": 80,\n",
    "        \"bmi\": (2247, 2250),\n",
    "        \"income\": (152, 153),\n",
    "        \"education\": 150,\n",
    "    }\n",
    "\n",
    "    return fieldDict\n",
    "\n",
    "def getIncome(incomeString):\n",
    "    if incomeString != \"  \":\n",
    "        income = int(incomeString)\n",
    "    else:\n",
    "        income = 9\n",
    "    return income\n",
    "\n",
    "def convertBMI(bmiString, shortYear):\n",
    "    bmi = 0\n",
    "    if shortYear == 0 and bmiString != \"999\":\n",
    "        bmi = 0.1 * float(bmiString)\n",
    "    if shortYear == 1 and bmiString != \"999999\":\n",
    "        bmi = 0.0001 * float(bmiString)\n",
    "    if 2 <= shortYear <= 10 and bmiString != \"9999\":\n",
    "        bmi = 0.01 * float(bmiString)\n",
    "    if shortYear > 10 and bmiString != \"    \":\n",
    "        bmi = 0.01 * float(bmiString)\n",
    "    return bmi\n",
    "\n",
    "def getEducation(educationString):\n",
    "    if educationString != \" \":\n",
    "        education = int(educationString)\n",
    "    else:\n",
    "        education = 9\n",
    "    return education\n",
    "\n",
    "def getHlth(hlthString):\n",
    "    if hlthString != \" \":\n",
    "        genhlth = int(hlthString)\n",
    "        if genhlth > 6:\n",
    "            genhlth = -1\n",
    "    else:\n",
    "        genhlth = -1\n",
    "\n",
    "    assert genhlth in (-1, 1, 2, 3, 4, 5, 6)\n",
    "    return genhlth\n"
   ]
  },
  {
   "cell_type": "markdown",
   "id": "73db9f16",
   "metadata": {},
   "source": [
    "### Main Regression Function"
   ]
  },
  {
   "cell_type": "code",
   "execution_count": null,
   "id": "f304319d",
   "metadata": {},
   "outputs": [],
   "source": [
    "def regression_health(data_dir, columns):\n",
    "    \"\"\"\n",
    "    Perform linear regression on health data.\n",
    "    IN: data_dir, str, directory containing data files\n",
    "    IN: columns, list of str, column names to use as features\n",
    "    OUT: beta, np.array of shape (len(columns) + 1,), regression coefficients\n",
    "    OUT: adj_r2, float, adjusted R-squared of the regression\n",
    "    \"\"\"\n",
    "\n",
    "    # Adapt linearRegression.py here\n",
    "    # YOUR CODE HERE\n",
    "    \n",
    "\n",
    "\n",
    "    return beta, adj_r2"
   ]
  },
  {
   "cell_type": "code",
   "execution_count": null,
   "id": "27713a77",
   "metadata": {},
   "outputs": [],
   "source": [
    "if __name__ == \"__main__\":\n",
    "    beta_full, r2_full = regression_health('./data', ['education', 'income', 'bmi'])\n",
    "    print(beta_full, r2_full)"
   ]
  }
 ],
 "metadata": {
  "kernelspec": {
   "display_name": "base",
   "language": "python",
   "name": "python3"
  },
  "language_info": {
   "codemirror_mode": {
    "name": "ipython",
    "version": 3
   },
   "file_extension": ".py",
   "mimetype": "text/x-python",
   "name": "python",
   "nbconvert_exporter": "python",
   "pygments_lexer": "ipython3",
   "version": "3.11.9"
  }
 },
 "nbformat": 4,
 "nbformat_minor": 5
}
